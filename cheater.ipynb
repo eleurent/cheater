{
 "cells": [
  {
   "cell_type": "markdown",
   "source": [
    "## Define the item response model\n"
   ],
   "metadata": {
    "collapsed": false
   }
  },
  {
   "cell_type": "code",
   "execution_count": null,
   "outputs": [],
   "source": [
    "import torch\n",
    "from torch.distributions import Bernoulli\n",
    "from tqdm import trange\n",
    "import matplotlib.pyplot as plt\n",
    "\n",
    "class ResponseModel(torch.nn.Module):\n",
    "    def __init__(self, n_students, n_questions):\n",
    "        super().__init__()\n",
    "        self.skill = torch.nn.Parameter(torch.zeros(n_students), requires_grad=True)\n",
    "        self.difficulty = torch.nn.Parameter(torch.zeros(n_questions), requires_grad=True)\n",
    "\n",
    "    def forward(self):\n",
    "        return Bernoulli(probs=torch.sigmoid(self.skill[:, None] - self.difficulty[None, :]))"
   ],
   "metadata": {
    "collapsed": false,
    "pycharm": {
     "name": "#%%\n"
    }
   }
  },
  {
   "cell_type": "markdown",
   "source": [
    "## Generate some data\n"
   ],
   "metadata": {
    "collapsed": false,
    "pycharm": {
     "name": "#%% md\n"
    }
   }
  },
  {
   "cell_type": "code",
   "execution_count": null,
   "outputs": [],
   "source": [
    "def generate_data(n_students, n_questions):\n",
    "    model = ResponseModel(n_students, n_students)\n",
    "    model.skill.data = -3 + 6*torch.rand(n_students)\n",
    "    model.difficulty.data = -3 + 6*torch.rand(n_questions)\n",
    "    answers = model().sample()\n",
    "    return model, answers\n",
    "\n",
    "true_model, answers = generate_data(n_students=100, n_questions=100)\n",
    "print(true_model.skill, true_model.difficulty)\n",
    "print(answers)"
   ],
   "metadata": {
    "collapsed": false,
    "pycharm": {
     "name": "#%%\n"
    }
   }
  },
  {
   "cell_type": "markdown",
   "source": [
    "## Fit the model by Maximum Likelihood Estimation\n",
    "Optimized by Stochastic Gradient Descent"
   ],
   "metadata": {
    "collapsed": false
   }
  },
  {
   "cell_type": "code",
   "execution_count": null,
   "outputs": [],
   "source": [
    "def fit_model(answers, epochs, alpha=1.0):\n",
    "    model = ResponseModel(n_students=answers.shape[0], n_questions=answers.shape[1])\n",
    "    optimizer = torch.optim.Adam(model.parameters(), lr=0.01)\n",
    "    losses = []\n",
    "\n",
    "    device=\"cuda:0\"\n",
    "    model = model.to(device)\n",
    "    answers = answers.to(device)\n",
    "    for _ in trange(epochs):\n",
    "        optimizer.zero_grad()\n",
    "        distribution = model()\n",
    "        loss = -distribution.log_prob(answers).mean() + alpha*torch.pow(model.difficulty.mean(), 2)\n",
    "        losses.append(loss.detach())\n",
    "        loss.backward()\n",
    "        optimizer.step()\n",
    "    model.to(\"cpu\")\n",
    "    return model, losses\n",
    "\n",
    "model, losses = fit_model(answers, epochs=1000, alpha=1e-2)\n",
    "plt.plot(losses)\n",
    "plt.yscale(\"log\")\n"
   ],
   "metadata": {
    "collapsed": false,
    "pycharm": {
     "name": "#%%\n"
    }
   }
  },
  {
   "cell_type": "markdown",
   "source": [
    "## Visualize estimation errors"
   ],
   "metadata": {
    "collapsed": false
   }
  },
  {
   "cell_type": "code",
   "execution_count": null,
   "outputs": [],
   "source": [
    "plt.hist((true_model.difficulty - model.difficulty).detach().numpy(), density=True, label=\"difficulty error\")\n",
    "plt.hist((true_model.skill - model.skill).detach().numpy(), density=True, label=\"skill error\")\n",
    "plt.legend()\n"
   ],
   "metadata": {
    "collapsed": false,
    "pycharm": {
     "name": "#%%\n"
    }
   }
  }
 ],
 "metadata": {
  "language_info": {
   "codemirror_mode": {
    "name": "ipython",
    "version": 2
   },
   "file_extension": ".py",
   "mimetype": "text/x-python",
   "name": "python",
   "nbconvert_exporter": "python",
   "pygments_lexer": "ipython2",
   "version": "2.7.6"
  },
  "kernelspec": {
   "name": "python3",
   "language": "python",
   "display_name": "Python 3"
  },
  "pycharm": {
   "stem_cell": {
    "cell_type": "raw",
    "source": [],
    "metadata": {
     "collapsed": false
    }
   }
  }
 },
 "nbformat": 4,
 "nbformat_minor": 0
}